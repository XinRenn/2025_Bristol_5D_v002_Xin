{
 "cells": [
  {
   "cell_type": "markdown",
   "metadata": {},
   "source": [
    "% 这个脚本建于已经read并write了所有temp和precip数据的R脚本之后，直接读取所有（100y）的模型输出数据。这一步可以被更改。\n",
    "# 添加必要package"
   ]
  },
  {
   "cell_type": "code",
   "execution_count": 1,
   "metadata": {},
   "outputs": [],
   "source": [
    "#%autoreload\n",
    "\n",
    "import pandas as pd\n",
    "import numpy as np\n",
    "import netCDF4 as nc\n",
    "# some user defined functions\n",
    "import GP_P as GP_P\n",
    "import compute_covariance as cov_matrix\n",
    "\n",
    "### defined forcing data path in the prediction/run.ipynb"
   ]
  },
  {
   "cell_type": "markdown",
   "metadata": {},
   "source": [
    "# Read emulator \n",
    "read the sum of 5 parameters in calibration to normalize the new input\n",
    "read the GP list from calibration \n",
    "read the PCA from calibration"
   ]
  },
  {
   "cell_type": "code",
   "execution_count": 45,
   "metadata": {},
   "outputs": [
    {
     "name": "stdout",
     "output_type": "stream",
     "text": [
      "esinw_sum\n",
      "ecosw_sum\n",
      "obliquity_sum\n",
      "co2_sum\n",
      "ice_sum\n",
      "keys of EM_Cali are: dict_keys(['month_01', 'month_02', 'month_03', 'month_04', 'month_05', 'month_06', 'month_07', 'month_08', 'month_09', 'month_10', 'month_11', 'month_12'])\n",
      "for each month in EM_Cali, the keys are: dict_keys(['PC_01', 'PC_02', 'PC_03', 'PC_04', 'PC_05', 'PC_06', 'PC_07', 'PC_08', 'PC_09', 'PC_10', 'PC_11', 'PC_12', 'PC_13', 'PC_14', 'PC_15', 'PC_16', 'PC_17', 'PC_18', 'PC_19', 'PC_20'])\n",
      "for each PC in EM_Cali, the keys are: dict_keys(['R', 'R1tX', 'Rt', 'X', 'Y', 'betahat', 'e', 'log_REML', 'log_pen_REML', 'muX', 'sigma_hat_2', 'covar', 'funcmu', 'lambda', 'nbrr', 'regress'])\n",
      "keys of PCS are: dict_keys(['month_01', 'month_02', 'month_03', 'month_04', 'month_05', 'month_06', 'month_07', 'month_08', 'month_09', 'month_10', 'month_11', 'month_12'])\n",
      "for each month in PCs, the keys are: dict_keys(['PCA', 'amps', 'd', 'mean', 'rvm', 'scaled_amps'])\n"
     ]
    }
   ],
   "source": [
    "import netCDF4 as nc\n",
    "import h5py\n",
    "\n",
    "# Open the 5 variables sum for standardization\n",
    "#################################################\n",
    "nc_data = nc.Dataset(\"emul_input_5variables_sum.nc\")\n",
    "var_names = list(nc_data.variables.keys())\n",
    "for var_name in var_names:\n",
    "    globals()[var_name] = nc_data.variables[var_name][:]\n",
    "    print(var_name)\n",
    "\n",
    "\n",
    "# define a function to read the h5 data recursively into a dictionary\n",
    "#----------------------------------------------------------------------\n",
    "def load_h5_as_dict(h5_group):\n",
    "    data = {}\n",
    "    for key, item in h5_group.items():\n",
    "        if isinstance(item, h5py.Group):\n",
    "            # If the item is a group, recurse into it\n",
    "            data[key] = load_h5_as_dict(item)\n",
    "        elif isinstance(item, h5py.Dataset):\n",
    "            # If the item is a dataset, load it as a NumPy array\n",
    "            data[key] = np.array(item)\n",
    "    \n",
    "    # Load attributes as well, if any\n",
    "    for attr_key, attr_value in h5_group.attrs.items():\n",
    "        data[attr_key] = attr_value  # Store attributes as dictionary entries\n",
    "\n",
    "    return data\n",
    "#--------------------------------------------------------------------\n",
    "# Load the HDF5 file and convert it into a dictionary\n",
    "#######################################################\n",
    "with h5py.File(\"GPList.h5\", \"r\") as GPList:\n",
    "    EM_Cali = load_h5_as_dict(GPList)\n",
    "print('keys of EM_Cali are:',EM_Cali.keys())\n",
    "print('for each month in EM_Cali, the keys are:',EM_Cali['month_01'].keys())\n",
    "print('for each PC in EM_Cali, the keys are:',EM_Cali['month_01']['PC_01'].keys())\n",
    "\n",
    "# Check if the regression type is not linear\n",
    "if EM_Cali['month_01']['PC_01']['regress'] != 'linear':\n",
    "    raise ValueError(\"The regression type is not linear. Please check the Clibration.ipynb and add the corresponding callable function.\")\n",
    "\n",
    "\n",
    "nkeep = len(EM_Cali.keys()) # number of PCAs\n",
    "\n",
    "# Load the PCA components \n",
    "##########################\n",
    "with h5py.File(\"PCA_temp.h5\", \"r\") as PCA:\n",
    "    PCs = load_h5_as_dict(PCA)\n",
    "print('keys of PCS are:',PCs.keys())\n",
    "print('for each month in PCs, the keys are:',PCs['month_01'].keys())\n"
   ]
  },
  {
   "cell_type": "markdown",
   "metadata": {},
   "source": [
    "# Read Input Data for Prediction\n",
    "read the new 5 parameters: orbital parameters, CO2 and ice sheet parameter"
   ]
  },
  {
   "cell_type": "code",
   "execution_count": 25,
   "metadata": {},
   "outputs": [
    {
     "name": "stdout",
     "output_type": "stream",
     "text": [
      "the 5 input variable for prediction are: [-0.38587849  0.04296161  0.01025098  0.01202713  0.00085885]\n"
     ]
    }
   ],
   "source": [
    "\n",
    "# Read the input data (orbital parameters and CO2 values) contains the values across all years\n",
    "x_full = pd.read_csv('emul_input.txt', sep='\\s+', header=None)  # Read table\n",
    "# Read the input data: ice sheet parameter (ice volume)\n",
    "x_vol = np.loadtxt('emulice_full_dt1000.txt')  # Read as a numpy array\n",
    "\n",
    "##### Modify needed, there only read one year data, so can do a loop to get all year data\n",
    "##### Here the first 0 is the 0th year, can be changed.\n",
    "##### For x_vol, put the year you want to predict in the first place. This can be further modified.\n",
    "index = int(x_vol[0, 0]) # Index of the year to extract variables from x_full (convert to integer for indexing)\n",
    "x_ice = x_vol[0,1]       # Ice volume as the second value\n",
    "\n",
    "# Extract the proper year, \n",
    "# Note: need to be minus one due to the 0-based index, which is different from R\n",
    "x_year = x_full.iloc[index-1, :]  # Extract the row corresponding to the year\n",
    "\n",
    "# Normalize input variables\n",
    "var1 = x_year[0] / esinw_sum        # Normalize `V1` by `esinw_sum`\n",
    "var2 = x_year[1] / ecosw_sum        # Normalize `V2` by `ecosw_sum`\n",
    "var3 = x_year[2] / obliquity_sum    # Normalize `V3` by `obliquity_sum`\n",
    "var4 = x_year[3] / co2_sum          # Normalize `V4` by `co2_sum`\n",
    "var5 = x_ice / ice_sum              # Normalize ice volume by `ice_sum`\n",
    "\n",
    "\n",
    "# make vector of all input variables at the current year\n",
    "x = np.array([var1, var2, var3, var4, var5])\n",
    "\n",
    "print(\"the 5 input variable for prediction are:\",x)\n"
   ]
  },
  {
   "cell_type": "markdown",
   "metadata": {},
   "source": [
    "## Visulisaztion of the input data to help understanding "
   ]
  },
  {
   "cell_type": "code",
   "execution_count": 4,
   "metadata": {},
   "outputs": [
    {
     "data": {
      "image/png": "[encoded data removed]",
      "text/plain": [
       "<Figure size 640x480 with 1 Axes>"
      ]
     },
     "metadata": {},
     "output_type": "display_data"
    }
   ],
   "source": [
    "array_length = np.arange(len(x_full.iloc[:,0]))\n",
    "\n",
    "import matplotlib.pyplot as plt\n",
    "\n",
    "plt.scatter(index, x_year[3])\n",
    "plt.xlabel('year')\n",
    "plt.ylabel('CO2')\n",
    "plt.title('Scatter plot of input CO2 values')\n",
    "plt.show()\n"
   ]
  },
  {
   "cell_type": "markdown",
   "metadata": {},
   "source": [
    "# Prediction"
   ]
  },
  {
   "cell_type": "code",
   "execution_count": 5,
   "metadata": {},
   "outputs": [
    {
     "name": "stdout",
     "output_type": "stream",
     "text": [
      "There are 20  PCs, an example: \n",
      "for PC1 the keys are dict_keys(['R', 'R1tX', 'Rt', 'X', 'Y', 'betahat', 'e', 'log_REML', 'log_pen_REML', 'muX', 'sigma_hat_2', 'covar', 'funcmu', 'lambda', 'nbrr', 'regress'])\n"
     ]
    }
   ],
   "source": [
    "### test code\n",
    "#i=0\n",
    "#for key, PC in EM_Cali.items():\n",
    "#    print('for PC',i,' the keys are',PC.keys())\n",
    "#    i+=1\n",
    "#    print('shape of PC:',PC['X'].shape)\n",
    "print('There are',len(EM_Cali),' PCs, an example: ')\n",
    "print('for PC1 the keys are',EM_Cali['PC_1'].keys())\n",
    "\n"
   ]
  },
  {
   "cell_type": "code",
   "execution_count": 53,
   "metadata": {},
   "outputs": [
    {
     "name": "stdout",
     "output_type": "stream",
     "text": [
      "for key month_01, the sub key is dict_keys(['mean', 'var', 'means', 'variances'])\n",
      "for key month_02, the sub key is dict_keys(['mean', 'var', 'means', 'variances'])\n",
      "for key month_03, the sub key is dict_keys(['mean', 'var', 'means', 'variances'])\n",
      "for key month_04, the sub key is dict_keys(['mean', 'var', 'means', 'variances'])\n",
      "for key month_05, the sub key is dict_keys(['mean', 'var', 'means', 'variances'])\n",
      "for key month_06, the sub key is dict_keys(['mean', 'var', 'means', 'variances'])\n",
      "for key month_07, the sub key is dict_keys(['mean', 'var', 'means', 'variances'])\n",
      "for key month_08, the sub key is dict_keys(['mean', 'var', 'means', 'variances'])\n",
      "for key month_09, the sub key is dict_keys(['mean', 'var', 'means', 'variances'])\n",
      "for key month_10, the sub key is dict_keys(['mean', 'var', 'means', 'variances'])\n",
      "for key month_11, the sub key is dict_keys(['mean', 'var', 'means', 'variances'])\n",
      "for key month_12, the sub key is dict_keys(['mean', 'var', 'means', 'variances'])\n",
      "shape of OUTPUT_TEMP: (201, 201, 12)\n"
     ]
    }
   ],
   "source": [
    "# estimate the current climate using the PCA routine pe_p \n",
    "%reload_ext autoreload\n",
    "%autoreload 2\n",
    "\n",
    "temperature = {}\n",
    "for month in range(1, 13):\n",
    "    month_key = f'month_{month:02d}'\n",
    "    temperature[month_key] = GP_P.GP_P(EM_Cali[month_key], PCs[month_key], x)\n",
    "\n",
    "for i, (key, PC) in enumerate(temperature.items()):\n",
    "    print(f'for key {key}, the sub key is {PC.keys()}')\n",
    "# the mean temperature field for each month is:\n",
    "#temp_jan = temperature[0]['mean'] - 273.15\n",
    "#temp_dec = temperature[11]['mean'] - 273.15\n",
    "\n",
    "# create an array on the ice sheet model grid of the form (LAT, LON) : \n",
    "yval = 201\n",
    "xval = 201\n",
    "nmonths = 12\n",
    "\n",
    "OUTPUT_TEMP = np.zeros((yval, xval, nmonths))\n",
    "AVG_TEMP = np.zeros((nmonths))\n",
    "\n",
    "for imonth in range(12):\n",
    "    month_key = f'month_{imonth+1:02d}'\n",
    "    OUTPUT_TEMP[:, :, imonth] = temperature[month_key]['mean'] - 273.15\n",
    "\n",
    "print('shape of OUTPUT_TEMP:',OUTPUT_TEMP.shape)"
   ]
  },
  {
   "cell_type": "markdown",
   "metadata": {},
   "source": [
    "# Write the results into NetCDF"
   ]
  },
  {
   "cell_type": "code",
   "execution_count": null,
   "metadata": {},
   "outputs": [],
   "source": [
    "import os\n",
    "\n",
    "\n",
    "#----------------------------------------------------------------------------------------------------\n",
    "# write temperature to NetCDF file\n",
    "#----------------------------------------------------------------------------------------------------\n",
    "name=\"TEMP_predict\"\n",
    "format=\".nc\"\n",
    "\n",
    "# Check if the NetCDF file already exists, if so, overwrite it\n",
    "if os.path.exists(f\"{name}{format}\"):\n",
    "    os.remove(f\"{name}{format}\")\n",
    "\n",
    "ncnew = nc.Dataset(f\"{name}{format}\", \"w\")\n",
    "\n",
    "lat    = np.arange(1, 202)\n",
    "lon    = np.arange(1, 202)\n",
    "months = np.arange(1, 13)\n",
    "\n",
    "# Define dimensions\n",
    "ncnew.createDimension(\"lon\", len(lon))\n",
    "ncnew.createDimension(\"lat\", len(lat))\n",
    "ncnew.createDimension(\"months\", len(months))\n",
    "\n",
    "# Define variables\n",
    "temp_all = ncnew.createVariable(\"temperature\", \"f4\", (\"lon\", \"lat\", \"months\"))\n",
    "temp_all.units = \"Celsius\"\n",
    "temp_all.long_name = \"Predicted Temperature\"\n",
    "\n",
    "# Define coordinate variables\n",
    "latitudes = ncnew.createVariable(\"latitude\", \"f4\", (\"lat\",))\n",
    "longitudes = ncnew.createVariable(\"longitude\", \"f4\", (\"lon\",))\n",
    "time = ncnew.createVariable(\"month\", \"i4\", (\"months\",))\n",
    "\n",
    "# Assign attributes to coordinate variables\n",
    "latitudes.units = \"degrees_north\"\n",
    "latitudes.long_name = \"Latitude\"\n",
    "longitudes.units = \"degrees_east\"\n",
    "longitudes.long_name = \"Longitude\"\n",
    "time.units = \"months\"\n",
    "time.long_name = \"Time\"\n",
    "\n",
    "# Write data to coordinate variables\n",
    "latitudes[:] = lat\n",
    "longitudes[:] = lon\n",
    "time[:] = months\n",
    "\n",
    "# Write data to variables\n",
    "temp_all[:, :, :] = OUTPUT_TEMP\n",
    "\n",
    "# Close the NetCDF file\n",
    "ncnew.close()"
   ]
  }
 ],
 "metadata": {
  "kernelspec": {
   "display_name": "data_process",
   "language": "python",
   "name": "python3"
  },
  "language_info": {
   "codemirror_mode": {
    "name": "ipython",
    "version": 3
   },
   "file_extension": ".py",
   "mimetype": "text/x-python",
   "name": "python",
   "nbconvert_exporter": "python",
   "pygments_lexer": "ipython3",
   "version": "3.9.0"
  }
 },
 "nbformat": 4,
 "nbformat_minor": 2
}
